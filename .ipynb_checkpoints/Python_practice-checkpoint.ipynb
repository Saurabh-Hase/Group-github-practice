{
 "cells": [
  {
   "cell_type": "code",
   "execution_count": 1,
   "id": "209b3119",
   "metadata": {},
   "outputs": [],
   "source": [
    "# Function to find Volum nd total surfce area of cube\n",
    "\n",
    "def cube(side):\n",
    "  volume = side **3\n",
    "  surface_area = 6 * (side**2)\n",
    "  return print(f'volume = {volume} and surface area = {surface_area}') "
   ]
  },
  {
   "cell_type": "code",
   "execution_count": 2,
   "id": "374b680a",
   "metadata": {},
   "outputs": [
    {
     "name": "stdout",
     "output_type": "stream",
     "text": [
      "volume = 512 and surface area = 384\n"
     ]
    }
   ],
   "source": [
    "cube(8)"
   ]
  },
  {
   "cell_type": "code",
   "execution_count": 3,
   "id": "e2d1d9fe",
   "metadata": {},
   "outputs": [
    {
     "name": "stdout",
     "output_type": "stream",
     "text": [
      "its our first try\n"
     ]
    }
   ],
   "source": [
    "print(\"its our first try\")"
   ]
  },
  {
   "cell_type": "code",
   "execution_count": null,
   "id": "c5ac444e",
   "metadata": {},
   "outputs": [],
   "source": []
  }
 ],
 "metadata": {
  "kernelspec": {
   "display_name": "Python 3 (ipykernel)",
   "language": "python",
   "name": "python3"
  },
  "language_info": {
   "codemirror_mode": {
    "name": "ipython",
    "version": 3
   },
   "file_extension": ".py",
   "mimetype": "text/x-python",
   "name": "python",
   "nbconvert_exporter": "python",
   "pygments_lexer": "ipython3",
   "version": "3.9.12"
  }
 },
 "nbformat": 4,
 "nbformat_minor": 5
}
